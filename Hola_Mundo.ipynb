{
  "nbformat": 4,
  "nbformat_minor": 0,
  "metadata": {
    "colab": {
      "provenance": [],
      "include_colab_link": true
    },
    "kernelspec": {
      "name": "python3",
      "display_name": "Python 3"
    },
    "language_info": {
      "name": "python"
    }
  },
  "cells": [
    {
      "cell_type": "markdown",
      "metadata": {
        "id": "view-in-github",
        "colab_type": "text"
      },
      "source": [
        "<a href=\"https://colab.research.google.com/github/IsmaRLD/Hola-mundo/blob/main/Hola_Mundo.ipynb\" target=\"_parent\"><img src=\"https://colab.research.google.com/assets/colab-badge.svg\" alt=\"Open In Colab\"/></a>"
      ]
    },
    {
      "cell_type": "code",
      "execution_count": 5,
      "metadata": {
        "id": "X6o84WTigh3z"
      },
      "outputs": [],
      "source": [
        "#Importamos las librerías requeridas\n",
        "import pandas as pd\n",
        "import numpy as np\n",
        "import matplotlib.pyplot as plt\n",
        "import seaborn as sns"
      ]
    },
    {
      "cell_type": "code",
      "source": [
        "#Cargar archivo csv desde seaborn\n",
        "df=sns.load_dataset(name='car_crashes')"
      ],
      "metadata": {
        "id": "fOK66c79ie5s"
      },
      "execution_count": null,
      "outputs": []
    },
    {
      "cell_type": "code",
      "source": [
        "#Imprimimos las primeras filas o registros del Dataframe\n",
        "df.head(5)"
      ],
      "metadata": {
        "id": "pPbi4g6pjEmc"
      },
      "execution_count": null,
      "outputs": []
    },
    {
      "cell_type": "code",
      "source": [
        "#Imprimimos las últimas filas o registros del Dataframe\n",
        "df.tail(5)"
      ],
      "metadata": {
        "id": "E7qHPUD6kIra"
      },
      "execution_count": null,
      "outputs": []
    },
    {
      "cell_type": "code",
      "source": [
        "df.info"
      ],
      "metadata": {
        "id": "fw8xtzSikUVP"
      },
      "execution_count": null,
      "outputs": []
    },
    {
      "cell_type": "code",
      "source": [
        "#Cargar archivo csv desde equipo\n",
        "from google.colab import files\n",
        "files.upload()"
      ],
      "metadata": {
        "id": "iEfTapPaqEu2"
      },
      "execution_count": null,
      "outputs": []
    },
    {
      "cell_type": "code",
      "source": [
        "#Convertir en Dataframe\n",
        "df=pd.read_csv(\"car_crashes.csv\")\n",
        "df"
      ],
      "metadata": {
        "id": "Nvx9_lnZs5xH"
      },
      "execution_count": null,
      "outputs": []
    }
  ]
}